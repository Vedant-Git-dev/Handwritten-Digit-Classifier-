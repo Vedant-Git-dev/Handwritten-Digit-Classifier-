{
 "cells": [
  {
   "cell_type": "code",
   "execution_count": 1,
   "id": "7bd763c9-9707-49c0-aeef-b330f180a158",
   "metadata": {},
   "outputs": [],
   "source": [
    "import tensorflow as tf\n",
    "from tensorflow.keras.datasets import mnist"
   ]
  },
  {
   "cell_type": "code",
   "execution_count": 2,
   "id": "415becf0-3920-4cb2-8e4c-71c67c36e6bf",
   "metadata": {},
   "outputs": [],
   "source": [
    "(x_train, y_train), (x_test, y_test) = mnist.load_data()"
   ]
  },
  {
   "cell_type": "markdown",
   "id": "b0fa03f6-c7e1-4a80-8944-9ce3b588d5ea",
   "metadata": {},
   "source": [
    "## Plotting a image"
   ]
  },
  {
   "cell_type": "code",
   "execution_count": 3,
   "id": "b1d26971-0edf-4eaf-87cf-6bb8123648d3",
   "metadata": {},
   "outputs": [],
   "source": [
    "import matplotlib\n",
    "import matplotlib.pyplot as plt"
   ]
  },
  {
   "cell_type": "code",
   "execution_count": 4,
   "id": "65723557-601d-4ec8-8f7e-bce701dcd35f",
   "metadata": {
    "scrolled": true
   },
   "outputs": [
    {
     "data": {
      "text/plain": [
       "<matplotlib.image.AxesImage at 0x19ae5442500>"
      ]
     },
     "execution_count": 4,
     "metadata": {},
     "output_type": "execute_result"
    },
    {
     "data": {
      "image/png": "[encoded data removed]",
      "text/plain": [
       "<Figure size 640x480 with 1 Axes>"
      ]
     },
     "metadata": {},
     "output_type": "display_data"
    }
   ],
   "source": [
    "image = x_train[10000]\n",
    "image.reshape(28, 28)\n",
    "\n",
    "plt.imshow(image, cmap = matplotlib.cm.binary, interpolation = \"nearest\")"
   ]
  },
  {
   "cell_type": "markdown",
   "id": "75b67bd3-e3b8-4ba2-8ce5-f33ba35f88ca",
   "metadata": {},
   "source": [
    "## Normalizing the values"
   ]
  },
  {
   "cell_type": "code",
   "execution_count": 5,
   "id": "fcf69875-b042-49a8-b5a5-dbd1030bb05f",
   "metadata": {},
   "outputs": [],
   "source": [
    "x_train = x_train / 255.0\n",
    "x_test = x_test / 255.0"
   ]
  },
  {
   "cell_type": "code",
   "execution_count": 6,
   "id": "bd93bd62-2280-43ff-b9f6-e02b2ae106b9",
   "metadata": {},
   "outputs": [],
   "source": [
    "from tensorflow.keras.utils import to_categorical\n",
    "\n",
    "x_train.reshape(-1, 28, 28, 1)\n",
    "x_test.reshape(-1, 28, 28, 1)\n",
    "\n",
    "y_train = to_categorical(y_train)\n",
    "y_test = to_categorical(y_test)"
   ]
  },
  {
   "cell_type": "markdown",
   "id": "27cc2949-891f-4635-a678-a54e29e31e07",
   "metadata": {},
   "source": [
    "## Seperating Validation Data"
   ]
  },
  {
   "cell_type": "code",
   "execution_count": 7,
   "id": "b1cb3665-b201-4ded-88dd-41b4ae8bd177",
   "metadata": {},
   "outputs": [],
   "source": [
    "from sklearn.model_selection import train_test_split"
   ]
  },
  {
   "cell_type": "code",
   "execution_count": 8,
   "id": "af348fa0-3f10-4533-a6e6-1961607fe375",
   "metadata": {},
   "outputs": [],
   "source": [
    "x_train, x_val, y_train, y_val = train_test_split(x_train, y_train, test_size = 0.1)"
   ]
  },
  {
   "cell_type": "markdown",
   "id": "c8d53af8-115c-4097-971e-c20a5915b42b",
   "metadata": {},
   "source": [
    "## Model Building"
   ]
  },
  {
   "cell_type": "code",
   "execution_count": 9,
   "id": "9bb68f9e-bd20-43e2-a9ab-c2786975374e",
   "metadata": {},
   "outputs": [],
   "source": [
    "from tensorflow.keras.layers import Conv2D, Dense, Flatten, MaxPooling2D, Input\n",
    "from tensorflow.keras.models import Sequential"
   ]
  },
  {
   "cell_type": "code",
   "execution_count": 10,
   "id": "128a563d-1e9b-4131-90e0-a7e888d3dea6",
   "metadata": {},
   "outputs": [],
   "source": [
    "model = Sequential([\n",
    "    Input(shape = (28, 28, 1)),\n",
    "    Conv2D(32, kernel_size = (3, 3), activation = \"relu\"),\n",
    "    MaxPooling2D(pool_size = (2, 2)),\n",
    "\n",
    "    Conv2D(64, kernel_size = (3, 3), activation = \"relu\"),\n",
    "    MaxPooling2D(pool_size = (2, 2)),\n",
    "\n",
    "    Flatten(),\n",
    "    Dense(128, activation = \"relu\"),\n",
    "    Dense(10, activation = \"softmax\")\n",
    "    ]\n",
    ")"
   ]
  },
  {
   "cell_type": "code",
   "execution_count": 11,
   "id": "3802d3cb-64e2-4033-9712-5e49fc44b362",
   "metadata": {},
   "outputs": [],
   "source": [
    "model.compile(optimizer = \"adam\",\n",
    "              loss = \"categorical_crossentropy\",\n",
    "              metrics = [\"accuracy\"]\n",
    "             )"
   ]
  },
  {
   "cell_type": "code",
   "execution_count": 12,
   "id": "32ce6e7a-b0dd-4838-b7e8-af5f0358ea6c",
   "metadata": {},
   "outputs": [
    {
     "name": "stdout",
     "output_type": "stream",
     "text": [
      "\u001b[1m844/844\u001b[0m \u001b[32m━━━━━━━━━━━━━━━━━━━━\u001b[0m\u001b[37m\u001b[0m \u001b[1m48s\u001b[0m 39ms/step - accuracy: 0.8853 - loss: 0.3876 - val_accuracy: 0.9808 - val_loss: 0.0641\n"
     ]
    },
    {
     "data": {
      "text/plain": [
       "<keras.src.callbacks.history.History at 0x19ae882fc10>"
      ]
     },
     "execution_count": 12,
     "metadata": {},
     "output_type": "execute_result"
    }
   ],
   "source": [
    "model.fit(x_train, y_train, validation_data = (x_val, y_val), batch_size = 64)"
   ]
  },
  {
   "cell_type": "markdown",
   "id": "fcbda4c3-c1f5-461d-b71f-ee10e28a5cfe",
   "metadata": {},
   "source": [
    "## Tuning the Model"
   ]
  },
  {
   "cell_type": "code",
   "execution_count": 13,
   "id": "7179bc45-5973-4bda-a694-df9af356bd95",
   "metadata": {},
   "outputs": [],
   "source": [
    "import keras_tuner as kt"
   ]
  },
  {
   "cell_type": "code",
   "execution_count": 20,
   "id": "c4630639-6265-419a-a1ab-d8a6f631de5d",
   "metadata": {},
   "outputs": [],
   "source": [
    "def build_model(hp):\n",
    "    new_model = Sequential()\n",
    "    new_model.add(Input(shape = (28, 28, 1)))\n",
    "    \n",
    "    new_model.add(Conv2D(filters = hp.Int(\"filter1\", 32, 64, step = 16),\n",
    "                    kernel_size = (3, 3),\n",
    "                    activation = 'relu'))\n",
    "    new_model.add(MaxPooling2D(pool_size = (2, 2)))\n",
    "    \n",
    "    new_model.add(Conv2D(filters = hp.Int('filter2', 32, 64, step = 16),\n",
    "                        kernel_size = (3, 3),\n",
    "                        activation = 'relu'))\n",
    "    new_model.add(Flatten())\n",
    "    new_model.add(Dense(units = hp.Int('dense_units', 64, 128, step = 32),\n",
    "                   activation = 'relu'))\n",
    "    new_model.add(Dense(10, activation = 'softmax'))\n",
    "\n",
    "    new_model.compile(optimizer = \"adam\",\n",
    "                  loss = \"categorical_crossentropy\",\n",
    "                  metrics = ['accuracy']\n",
    "                 )\n",
    "    return new_model\n",
    "    "
   ]
  },
  {
   "cell_type": "code",
   "execution_count": 21,
   "id": "700d1d89-a3b6-41de-a1ac-c70d1815845a",
   "metadata": {},
   "outputs": [],
   "source": [
    "import shutil\n",
    "shutil.rmtree('untitled_project')"
   ]
  },
  {
   "cell_type": "code",
   "execution_count": 22,
   "id": "9850afaa-d30a-4db8-9f0b-5486cae4ff6a",
   "metadata": {},
   "outputs": [],
   "source": [
    "tuner = kt.RandomSearch(build_model,\n",
    "                       objective = 'val_accuracy',\n",
    "                       max_trials = 5)"
   ]
  },
  {
   "cell_type": "code",
   "execution_count": 23,
   "id": "5be3c10d-6705-42cc-8c9d-374c8a6d6ae0",
   "metadata": {},
   "outputs": [
    {
     "name": "stdout",
     "output_type": "stream",
     "text": [
      "Trial 5 Complete [00h 05m 04s]\n",
      "val_accuracy: 0.9884999990463257\n",
      "\n",
      "Best val_accuracy So Far: 0.9903333187103271\n",
      "Total elapsed time: 00h 21m 21s\n"
     ]
    }
   ],
   "source": [
    "tuner.search(x_train, y_train, validation_data = (x_val, y_val), epochs = 5)"
   ]
  },
  {
   "cell_type": "code",
   "execution_count": 26,
   "id": "2818ff6f-975b-494d-b1ee-8276e4cf00b3",
   "metadata": {},
   "outputs": [
    {
     "name": "stderr",
     "output_type": "stream",
     "text": [
      "C:\\Users\\Adesh\\AppData\\Local\\Programs\\Python\\Python310\\lib\\site-packages\\keras\\src\\saving\\saving_lib.py:802: UserWarning: Skipping variable loading for optimizer 'adam', because it has 2 variables whereas the saved optimizer has 18 variables. \n",
      "  saveable.load_own_variables(weights_store.get(inner_path))\n"
     ]
    }
   ],
   "source": [
    "best_model = tuner.get_best_models(num_models = 1)[0]\n",
    "best_model.compile(optimizer = 'adam',\n",
    "                   loss = \"categorical_crossentropy\",\n",
    "                   metrics = ['accuracy']\n",
    "                  )"
   ]
  },
  {
   "cell_type": "markdown",
   "id": "b5bb3a20-1364-4801-8bff-e0ccd61b0a20",
   "metadata": {},
   "source": [
    "## Testing on test data"
   ]
  },
  {
   "cell_type": "code",
   "execution_count": 27,
   "id": "1bb19169-fb27-4a0f-b731-e87f3e688ae5",
   "metadata": {},
   "outputs": [
    {
     "name": "stdout",
     "output_type": "stream",
     "text": [
      "\u001b[1m313/313\u001b[0m \u001b[32m━━━━━━━━━━━━━━━━━━━━\u001b[0m\u001b[37m\u001b[0m \u001b[1m8s\u001b[0m 22ms/step - accuracy: 0.9888 - loss: 0.0374\n"
     ]
    }
   ],
   "source": [
    "loss, accuracy = best_model.evaluate(x_test, y_test)"
   ]
  },
  {
   "cell_type": "code",
   "execution_count": 28,
   "id": "065cdf75-ae3f-4487-8d2d-e5eca2d259d1",
   "metadata": {},
   "outputs": [
    {
     "data": {
      "text/plain": [
       "0.9908000230789185"
      ]
     },
     "execution_count": 28,
     "metadata": {},
     "output_type": "execute_result"
    }
   ],
   "source": [
    "accuracy"
   ]
  },
  {
   "cell_type": "markdown",
   "id": "d15dfb04-963b-443a-ab6d-dc18e61e9630",
   "metadata": {},
   "source": [
    "## Saving the model"
   ]
  },
  {
   "cell_type": "code",
   "execution_count": 32,
   "id": "85ecc03f-f4ed-4206-bf31-1fbe38e0e979",
   "metadata": {},
   "outputs": [],
   "source": [
    "best_model.save('Digit Classifier.keras')"
   ]
  },
  {
   "cell_type": "code",
   "execution_count": null,
   "id": "0e1df513-1612-4882-8a3a-85d3affc347c",
   "metadata": {},
   "outputs": [],
   "source": []
  }
 ],
 "metadata": {
  "kernelspec": {
   "display_name": "Python 3.10",
   "language": "python",
   "name": "py310"
  },
  "language_info": {
   "codemirror_mode": {
    "name": "ipython",
    "version": 3
   },
   "file_extension": ".py",
   "mimetype": "text/x-python",
   "name": "python",
   "nbconvert_exporter": "python",
   "pygments_lexer": "ipython3",
   "version": "3.10.11"
  }
 },
 "nbformat": 4,
 "nbformat_minor": 5
}
